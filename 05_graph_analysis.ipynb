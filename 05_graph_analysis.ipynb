{
 "cells": [
  {
   "cell_type": "code",
   "execution_count": 1,
   "metadata": {},
   "outputs": [],
   "source": [
    "import numpy as np\n",
    "import pickle\n",
    "import glob\n",
    "import pandas as pd\n",
    "import os\n",
    "from sklearn.linear_model import LinearRegression\n",
    "\n",
    "from scipy.stats import zscore, t\n",
    "\n",
    "from src.utils import get_markov_chain"
   ]
  },
  {
   "cell_type": "code",
   "execution_count": 2,
   "metadata": {},
   "outputs": [],
   "source": [
    "def make_dfs(data_dir, first_n=1000):\n",
    "    dfs = [\n",
    "        (file, pd.read_csv(file)\n",
    "        # .sort_values(\"epoch\")\n",
    "        .sort_values(\"step\")\n",
    "        .reset_index(drop=True)\n",
    "        .head(first_n)\n",
    "        )  \n",
    "        for file in glob.glob(data_dir + \"*\")\n",
    "    ]\n",
    "    file_names, dfs = zip(*dfs)\n",
    "    return file_names, dfs\n",
    "\n",
    "def make_hmm_data(dfs, cols):\n",
    "    dfs = [df[cols] for df in dfs]\n",
    "    \n",
    "    data = np.vstack(\n",
    "        [np.apply_along_axis(zscore, 0, df.to_numpy()) for df in dfs]\n",
    "    )\n",
    "    return data\n",
    "\n",
    "def break_list_by_lengths(lst, lengths):\n",
    "    result = []\n",
    "    start_index = 0\n",
    "    \n",
    "    for length in lengths:\n",
    "        sublist = lst[start_index:start_index + length]\n",
    "        result.append(sublist)\n",
    "        start_index += length\n",
    "    \n",
    "    return result\n",
    "\n",
    "def save_markov_chain(model_pth, data_dir, output_pth, n_components, trim=True):\n",
    "    with open(model_pth, 'rb') as f:\n",
    "        model = pickle.load(f)['best_models'][n_components-1]\n",
    "\n",
    "    if trim:\n",
    "        file_names, dfs = make_dfs(data_dir)\n",
    "        transitions = set()\n",
    "\n",
    "        for file_name, df in zip(file_names, dfs):\n",
    "            predictions = df['latent_state'].to_numpy().astype(int)\n",
    "            transitions.update(zip(predictions[:-1], predictions[1:]))\n",
    "            # print(file_name, transitions)\n",
    "\n",
    "        # create a list of all existing transitions\n",
    "        transmat = np.zeros((n_components, n_components))\n",
    "        # print(transitions)\n",
    "        for i, j in transitions:\n",
    "            transmat[i, j] = model.transmat_[i, j]\n",
    "    else:\n",
    "        transmat = model.transmat_\n",
    "    dot = get_markov_chain(np.round(transmat, decimals=3))\n",
    "    dot.render(f'{output_pth}_{n_components}', format='png')\n",
    "\n",
    "def get_count_vector(prediction, n_components):\n",
    "    count_vector = np.zeros(n_components)\n",
    "    for i in range(n_components):\n",
    "        count_vector[i] = np.sum(prediction == i)\n",
    "    return count_vector\n",
    "\n",
    "\n",
    "def save_predictions(model_pth, data_dir, output_pth, n_components, cols_to_keep, first_n=1000):\n",
    "    file_names, dfs = make_dfs(data_dir, first_n)\n",
    "    data = make_hmm_data(dfs, cols_to_keep)\n",
    "    lengths =  [len(df) for df in dfs]\n",
    "\n",
    "    with open(model_pth, 'rb') as f:\n",
    "        models = pickle.load(f)\n",
    "\n",
    "    model = models['best_models'][n_components-1]\n",
    "    print(model.score(data, lengths=lengths))\n",
    "    best_predictions = break_list_by_lengths(model.predict(data, lengths=lengths), lengths)\n",
    "    # print(best_predictions)\n",
    "\n",
    "    dfs = [df.assign(latent_state=prediction) for df, prediction in zip(dfs, best_predictions)]\n",
    "\n",
    "    # make output path if does not exist\n",
    "    if not os.path.exists(output_pth):\n",
    "        os.makedirs(output_pth)\n",
    "    \n",
    "    for file_name, df in zip(file_names, dfs):\n",
    "        base_name = file_name.split('/')[-1]\n",
    "        df.to_csv(f'{output_pth}{n_components}_{base_name}')\n",
    "\n",
    "\n",
    "def get_convergence_epochs(dfs, column, threshold=0.5):\n",
    "    conv = []\n",
    "    max_len = max([len(df) for df in dfs])\n",
    "    for i, df in enumerate(dfs):\n",
    "        first_index = df[df[column] > threshold].index.tolist()\n",
    "\n",
    "        if first_index:\n",
    "            conv.append(first_index[0])\n",
    "        else:\n",
    "            conv.append(max_len)\n",
    "            \n",
    "    return conv\n",
    "\n",
    "def get_state_correlations(file_paths, column, threshold):\n",
    "    file_names, dfs = make_dfs(file_paths)\n",
    "    num_components = int(file_names[0].split('/')[-1].split('_')[0])\n",
    "    convergence_epochs = get_convergence_epochs(dfs, column, threshold)\n",
    "\n",
    "    corrs = []\n",
    "    binary_states = []\n",
    "    t_stats = []\n",
    "    p_vals = []\n",
    "    for i in range(num_components):\n",
    "        has_state = [1 if i in df['latent_state'].values else 0 for df in dfs]\n",
    "        corr = np.corrcoef(has_state, convergence_epochs)[0, 1]\n",
    "        corrs.append(corr)\n",
    "        binary_states.append(has_state)\n",
    "\n",
    "        n = len(has_state)\n",
    "        df = n - 2\n",
    "        t_stat = corr * np.sqrt(df) / np.sqrt(1 - corr**2)\n",
    "        t_stats.append(t_stat)\n",
    "        p_val = 2 * (1 - t.cdf(t_stat, df=df))\n",
    "        p_vals.append(p_val)\n",
    "\n",
    "\n",
    "    return corrs, t_stats, p_vals, convergence_epochs, binary_states\n"
   ]
  },
  {
   "cell_type": "code",
   "execution_count": 4,
   "metadata": {},
   "outputs": [],
   "source": [
    "# checking the QQP results, because the auto-generated graph is hard to read\n",
    "\n",
    "# with open('/scratch/myh2014/modeling-training/data/model_selection/32/glue_singletons/QQP-full-base.pkl', 'rb') as f:\n",
    "#     data = pickle.load(f)"
   ]
  },
  {
   "cell_type": "code",
   "execution_count": 3,
   "metadata": {},
   "outputs": [],
   "source": [
    "cols_to_keep = [\n",
    "    \"l1\",\n",
    "    \"l2\",\n",
    "    \"trace\",\n",
    "    \"spectral\",\n",
    "    \"code_sparsity\",\n",
    "    \"computational_sparsity\",\n",
    "    \"mean_lambda\",\n",
    "    \"variance_lambda\",\n",
    "    \"mean_w\",\n",
    "    \"median_w\",\n",
    "    \"var_w\",\n",
    "    \"mean_b\",\n",
    "    \"median_b\",\n",
    "    \"var_b\",\n",
    "]\n",
    "\n",
    "# cols_to_keep = [\n",
    "#     \"l1\",\n",
    "#     \"l2\",\n",
    "#     \"trace\",\n",
    "#     \"spectral\",\n",
    "#     \"code_sparsity\",\n",
    "#     \"computational_sparsity\",\n",
    "#     \"mean_singular_value\",\n",
    "#     \"var_singular_value\",\n",
    "#     \"mean_w\",\n",
    "#     \"median_w\",\n",
    "#     \"var_w\",\n",
    "#     \"mean_b\",\n",
    "#     \"median_b\",\n",
    "#     \"var_b\",\n",
    "# ]"
   ]
  },
  {
   "cell_type": "code",
   "execution_count": null,
   "metadata": {},
   "outputs": [],
   "source": [
    "# make and save predictions\n",
    "# no need to make predictions for GLUE, MNLI, QQP, since they have only 1 path through the markov chain\n",
    "\n",
    "# sparse parities\n",
    "save_predictions(\n",
    "    model_pth='/scratch/myh2014/modeling-training/data/model_selection/32/parities/parities_v3-full-base.pkl',\n",
    "    data_dir = '/scratch/myh2014/modeling-training/data/training_runs/parities_v3/',\n",
    "    output_pth='/scratch/myh2014/modeling-training/results/parities/',\n",
    "    cols_to_keep=cols_to_keep,\n",
    "    metric_column = 'eval_accuracy',\n",
    "    threshold = 0.9\n",
    ")\n"
   ]
  },
  {
   "cell_type": "code",
   "execution_count": 9,
   "metadata": {},
   "outputs": [
    {
     "name": "stdout",
     "output_type": "stream",
     "text": [
      "[60, 61, 57, 67, 62, 59, 60, 65, 59, 57, 63, 60, 57, 57, 68, 59, 64, 59, 63, 65, 67, 63, 58, 65, 62, 67, 68, 60, 62, 62, 63, 55, 61, 70, 65, 63, 55, 66, 67, 59]\n"
     ]
    }
   ],
   "source": [
    "# # MNIST\n",
    "save_predictions(\n",
    "    model_pth='/scratch/myh2014/modeling-training/data/model_selection/32/mnist_250-full-base.pkl',\n",
    "    data_dir = '/scratch/myh2014/modeling-training/data/training_runs/mnist_v3/',\n",
    "    output_pth='/scratch/myh2014/modeling-training/results/mnist_250/',\n",
    "    cols_to_keep=cols_to_keep,\n",
    "    metric_column = 'eval_accuracy',\n",
    "    threshold = 0.97\n",
    ")"
   ]
  },
  {
   "cell_type": "code",
   "execution_count": 4,
   "metadata": {},
   "outputs": [
    {
     "name": "stdout",
     "output_type": "stream",
     "text": [
      "[145, 225, 213, 361, 296, 360, 185, 292, 303, 309, 396, 293, 256, 184, 487, 306, 228, 227, 165, 225, 176, 1000, 650, 261, 670, 390, 479, 330, 403, 234, 110, 229, 253, 215, 225, 310, 282, 210, 350, 329]\n"
     ]
    }
   ],
   "source": [
    "# modular addition\n",
    "# remember to turn off sorting b/c there's no step or epoch (old file)\n",
    "save_predictions(\n",
    "    model_pth='/scratch/myh2014/modeling-training/data/model_selection/32/modular/modular_v3-full-base.pkl',\n",
    "    data_dir = '/scratch/myh2014/modeling-training/data/training_runs/modular_v3/',\n",
    "    output_pth='/scratch/myh2014/modeling-training/results/modular/',\n",
    "    cols_to_keep=cols_to_keep,\n",
    "    metric_column = 'eval_accuracy',\n",
    "    threshold=0.9\n",
    ")"
   ]
  },
  {
   "cell_type": "code",
   "execution_count": 6,
   "metadata": {},
   "outputs": [
    {
     "name": "stdout",
     "output_type": "stream",
     "text": [
      "[0, 0, 0, 0, 0]\n"
     ]
    }
   ],
   "source": [
    "# MultiBERTs\n",
    "# remember to change \"step\" --> \"epoch\" (old file)\n",
    "save_predictions(\n",
    "    model_pth='/scratch/myh2014/modeling-training/data/model_selection/32/multiberts/multiberts_diag.pkl',\n",
    "    data_dir = '/scratch/myh2014/modeling-training/data/training_runs/multiberts/',\n",
    "    output_pth='/scratch/myh2014/modeling-training/results/multiberts_diag/',\n",
    "    # n_components=5,\n",
    "    cols_to_keep=cols_to_keep,\n",
    "    metric_column = 'train_loss',\n",
    "    threshold=1.6\n",
    ")"
   ]
  },
  {
   "cell_type": "code",
   "execution_count": 51,
   "metadata": {},
   "outputs": [
    {
     "name": "stdout",
     "output_type": "stream",
     "text": [
      "140388.41684841784\n"
     ]
    }
   ],
   "source": [
    "save_predictions(\n",
    "    model_pth='/scratch/myh2014/modeling-training/data/model_selection/32/mnist_cnn--base.pkl',\n",
    "    data_dir='/scratch/myh2014/modeling-training/data/training_runs/mnist_cnn/',\n",
    "    output_pth='/scratch/myh2014/modeling-training/results/mnist_cnn/',\n",
    "    n_components=5,\n",
    "    cols_to_keep=cols_to_keep,\n",
    "    first_n=200\n",
    ")"
   ]
  },
  {
   "cell_type": "code",
   "execution_count": 59,
   "metadata": {},
   "outputs": [
    {
     "name": "stdout",
     "output_type": "stream",
     "text": [
      "325435.1311040439\n"
     ]
    }
   ],
   "source": [
    "save_predictions(\n",
    "    model_pth='/scratch/myh2014/modeling-training/data/model_selection/32/cifar100_cnn--base.pkl',\n",
    "    data_dir='/scratch/myh2014/modeling-training/data/training_runs/cifar100_cnn/',\n",
    "    output_pth='/scratch/myh2014/modeling-training/results/cifar100_cnn/',\n",
    "    n_components=5,\n",
    "    cols_to_keep=cols_to_keep,\n",
    "    first_n=300\n",
    ")"
   ]
  },
  {
   "cell_type": "code",
   "execution_count": 12,
   "metadata": {},
   "outputs": [
    {
     "name": "stdout",
     "output_type": "stream",
     "text": [
      "295927.78972488735\n"
     ]
    }
   ],
   "source": [
    "save_predictions(\n",
    "    model_pth='/scratch/myh2014/modeling-training/data/model_selection/32/cifar100_cnn_variants/--use_batch_norm/--base.pkl',\n",
    "    data_dir='/scratch/myh2014/modeling-training/data/training_runs/cifar100_cnn_variants/--use_batch_norm/',\n",
    "    output_pth='/scratch/myh2014/modeling-training/results/cifar100_cnn_variants/--use_batch_norm/',\n",
    "    n_components=6,\n",
    "    cols_to_keep=cols_to_keep,\n",
    "    first_n=300\n",
    ")"
   ]
  },
  {
   "cell_type": "code",
   "execution_count": 13,
   "metadata": {},
   "outputs": [
    {
     "name": "stdout",
     "output_type": "stream",
     "text": [
      "293187.5448208586\n"
     ]
    }
   ],
   "source": [
    "save_predictions(\n",
    "    model_pth='/scratch/myh2014/modeling-training/data/model_selection/32/cifar100_cnn_variants/--use_residual/--base.pkl',\n",
    "    data_dir='/scratch/myh2014/modeling-training/data/training_runs/cifar100_cnn_variants/--use_residual/',\n",
    "    output_pth='/scratch/myh2014/modeling-training/results/cifar100_cnn_variants/--use_residual/',\n",
    "    n_components=6,\n",
    "    cols_to_keep=cols_to_keep,\n",
    "    first_n=300\n",
    ")"
   ]
  },
  {
   "cell_type": "code",
   "execution_count": 14,
   "metadata": {},
   "outputs": [
    {
     "name": "stdout",
     "output_type": "stream",
     "text": [
      "123601.67532493956\n"
     ]
    }
   ],
   "source": [
    "save_predictions(\n",
    "    model_pth='/scratch/myh2014/modeling-training/data/model_selection/32/cifar100_cnn_variants/nothing/--base.pkl',\n",
    "    data_dir='/scratch/myh2014/modeling-training/data/training_runs/cifar100_cnn_variants/nothing/',\n",
    "    output_pth='/scratch/myh2014/modeling-training/results/cifar100_cnn_variants/nothing/',\n",
    "    n_components=3,\n",
    "    cols_to_keep=cols_to_keep,\n",
    "    first_n=300\n",
    ")"
   ]
  },
  {
   "cell_type": "code",
   "execution_count": 6,
   "metadata": {},
   "outputs": [
    {
     "name": "stdout",
     "output_type": "stream",
     "text": [
      "303606.83113125904\n"
     ]
    }
   ],
   "source": [
    "save_predictions(\n",
    "    model_pth='/scratch/myh2014/modeling-training/data/model_selection/32/cifar100_v3/False_False/--base.pkl',\n",
    "    data_dir='/scratch/myh2014/modeling-training/data/training_runs/cifar100_v3/False_False/',\n",
    "    output_pth='/scratch/myh2014/modeling-training/results/cifar100_v3/False_False/',\n",
    "    n_components=5,\n",
    "    cols_to_keep=cols_to_keep,\n",
    "    first_n=600\n",
    ")"
   ]
  },
  {
   "cell_type": "code",
   "execution_count": 7,
   "metadata": {},
   "outputs": [
    {
     "name": "stdout",
     "output_type": "stream",
     "text": [
      "330989.21925717127\n"
     ]
    }
   ],
   "source": [
    "save_predictions(\n",
    "    model_pth='/scratch/myh2014/modeling-training/data/model_selection/32/cifar100_v3/True_True/--base.pkl',\n",
    "    data_dir='/scratch/myh2014/modeling-training/data/training_runs/cifar100_v3/True_True/',\n",
    "    output_pth='/scratch/myh2014/modeling-training/results/cifar100_v3/True_True/',\n",
    "    n_components=5,\n",
    "    cols_to_keep=cols_to_keep,\n",
    "    first_n=300\n",
    ")"
   ]
  },
  {
   "cell_type": "code",
   "execution_count": 22,
   "metadata": {},
   "outputs": [
    {
     "name": "stdout",
     "output_type": "stream",
     "text": [
      "-7053.536360660506\n"
     ]
    }
   ],
   "source": [
    "save_predictions(\n",
    "    model_pth='/scratch/myh2014/modeling-training/data/model_selection/32/parities_adam_ln-full-base.pkl',\n",
    "    data_dir='/scratch/myh2014/modeling-training/data/training_runs/parities_adam_ln/',\n",
    "    output_pth='/scratch/myh2014/modeling-training/results/parities_adam_ln/',\n",
    "    n_components=2,\n",
    "    cols_to_keep=cols_to_keep,\n",
    "    first_n=30\n",
    ")"
   ]
  },
  {
   "cell_type": "code",
   "execution_count": null,
   "metadata": {},
   "outputs": [],
   "source": [
    "save_predictions(\n",
    "    model_pth='/scratch/myh2014/modeling-training/data/model_selection/32/parities_adam_ln-full-base.pkl',\n",
    "    data_dir='/scratch/myh2014/modeling-training/data/training_runs/parities_adam_ln/',\n",
    "    output_pth='/scratch/myh2014/modeling-training/results/parities_adam_ln/',\n",
    "    n_components=2,\n",
    "    cols_to_keep=cols_to_keep,\n",
    "    first_n=30\n",
    ")"
   ]
  },
  {
   "cell_type": "code",
   "execution_count": 25,
   "metadata": {},
   "outputs": [
    {
     "name": "stdout",
     "output_type": "stream",
     "text": [
      "288493.800843404\n"
     ]
    }
   ],
   "source": [
    "save_predictions(\n",
    "    model_pth='/scratch/myh2014/modeling-training/data/model_selection/32/mnist_v2--base.pkl',\n",
    "    data_dir='/scratch/myh2014/modeling-training/data/training_runs/mnist_v2/',\n",
    "    output_pth='/scratch/myh2014/modeling-training/results/mnist_v2/',\n",
    "    n_components=6,\n",
    "    cols_to_keep=cols_to_keep,\n",
    "    first_n=250\n",
    ")"
   ]
  },
  {
   "cell_type": "code",
   "execution_count": 8,
   "metadata": {},
   "outputs": [],
   "source": [
    "# generate the Markov chains\n",
    "\n",
    "# sparse parities\n",
    "# save_markov_chain(\n",
    "#     model_pth='/scratch/myh2014/modeling-training/data/model_selection/32/parities/parities_v3-full-base.pkl',\n",
    "#     data_dir='/scratch/myh2014/modeling-training/results/parities/',\n",
    "#     output_pth='/scratch/myh2014/modeling-training/figures/markov_chains/parities/full',\n",
    "#     n_components=6 \n",
    "# )\n",
    "\n",
    "# # modular addition\n",
    "# save_markov_chain(\n",
    "#     model_pth='/scratch/myh2014/modeling-training/data/model_selection/32/modular/modular_v3-full-base.pkl',\n",
    "#     data_dir='/scratch/myh2014/modeling-training/results/modular/',\n",
    "#     output_pth='/scratch/myh2014/modeling-training/figures/markov_chains/modular/full',\n",
    "#     n_components=4 \n",
    "# )\n",
    "\n",
    "\n",
    "save_markov_chain(\n",
    "    model_pth='/scratch/myh2014/modeling-training/data/model_selection/32/modular_v3-diag-ablation2.pkl',\n",
    "    data_dir='/scratch/myh2014/modeling-training/results/modular/',\n",
    "    output_pth='/scratch/myh2014/modeling-training/figures/markov_chains/modular/ablation2',\n",
    "    n_components=8,\n",
    "    trim=False\n",
    ")\n",
    "\n",
    "# # MNIST\n",
    "# save_markov_chain(\n",
    "#     model_pth='/scratch/myh2014/modeling-training/data/model_selection/32/mnist_250-full-base.pkl',\n",
    "#     data_dir='/scratch/myh2014/modeling-training/results/mnist_250/',\n",
    "#     output_pth='/scratch/myh2014/modeling-training/figures/markov_chains/mnist/full',\n",
    "#     n_components=6\n",
    "# )\n",
    "\n",
    "# # MultiBERTs\n",
    "# save_markov_chain(\n",
    "#     model_pth='/scratch/myh2014/modeling-training/data/model_selection/32/multiberts/multiberts_diag.pkl',\n",
    "#     data_dir='/scratch/myh2014/modeling-training/results/multiberts_diag/',\n",
    "#     output_pth='/scratch/myh2014/modeling-training/figures/markov_chains/multiberts_diag',\n",
    "#     n_components=5 \n",
    "# )"
   ]
  },
  {
   "cell_type": "code",
   "execution_count": 6,
   "metadata": {},
   "outputs": [],
   "source": [
    "save_markov_chain(\n",
    "    model_pth='/scratch/myh2014/modeling-training/data/model_selection/32/parities_v3_swap--modular_best.pkl',\n",
    "    data_dir='/scratch/myh2014/modeling-training/results/parities/',\n",
    "    output_pth='/scratch/myh2014/modeling-training/figures/markov_chains/parities/modular_swap',\n",
    "    n_components=8,\n",
    "    trim=False\n",
    ")\n",
    "\n",
    "save_markov_chain(\n",
    "    model_pth='/scratch/myh2014/modeling-training/data/model_selection/32/modular_v3_swap--parities_best.pkl',\n",
    "    data_dir='/scratch/myh2014/modeling-training/results/modular/',\n",
    "    output_pth='/scratch/myh2014/modeling-training/figures/markov_chains/modular/parities_swap',\n",
    "    n_components=8,\n",
    "    trim=False\n",
    ")"
   ]
  },
  {
   "cell_type": "code",
   "execution_count": 60,
   "metadata": {},
   "outputs": [],
   "source": [
    "# save_markov_chain(\n",
    "#     model_pth='/scratch/myh2014/modeling-training/data/model_selection/32/mnist_cnn--base.pkl',\n",
    "#     data_dir='/scratch/myh2014/modeling-training/results/mnist_cnn/',\n",
    "#     output_pth='/scratch/myh2014/modeling-training/figures/markov_chains/mnist_cnn/',\n",
    "#     n_components=5,\n",
    "#     trim=True\n",
    "# )\n",
    "\n",
    "save_markov_chain(\n",
    "    model_pth='/scratch/myh2014/modeling-training/data/model_selection/32/cifar100_cnn--base.pkl',\n",
    "    data_dir='/scratch/myh2014/modeling-training/results/cifar100_cnn/',\n",
    "    output_pth='/scratch/myh2014/modeling-training/figures/markov_chains/cifar100/',\n",
    "    n_components=5,\n",
    "    trim=True\n",
    ")"
   ]
  },
  {
   "cell_type": "code",
   "execution_count": 15,
   "metadata": {},
   "outputs": [],
   "source": [
    "save_markov_chain(\n",
    "    model_pth='/scratch/myh2014/modeling-training/data/model_selection/32/cifar100_cnn_variants/--use_batch_norm/--base.pkl',\n",
    "    data_dir='/scratch/myh2014/modeling-training/results/cifar100_cnn_variants/--use_batch_norm/',\n",
    "    output_pth='/scratch/myh2014/modeling-training/figures/markov_chains/cifar100_cnn_variants/--use_batch_norm/',\n",
    "    n_components=6,\n",
    "    trim=True\n",
    ")"
   ]
  },
  {
   "cell_type": "code",
   "execution_count": 17,
   "metadata": {},
   "outputs": [],
   "source": [
    "save_markov_chain(\n",
    "    model_pth='/scratch/myh2014/modeling-training/data/model_selection/32/cifar100_cnn_variants/--use_residual/--base.pkl',\n",
    "    data_dir='/scratch/myh2014/modeling-training/results/cifar100_cnn_variants/--use_residual/',\n",
    "    output_pth='/scratch/myh2014/modeling-training/figures/markov_chains/cifar100_cnn_variants/--use_residual/',\n",
    "    n_components=6,\n",
    "    trim=True\n",
    ")\n",
    "\n",
    "save_markov_chain(\n",
    "    model_pth='/scratch/myh2014/modeling-training/data/model_selection/32/cifar100_cnn_variants/nothing/--base.pkl',\n",
    "    data_dir='/scratch/myh2014/modeling-training/results/cifar100_cnn_variants/nothing/',\n",
    "    output_pth='/scratch/myh2014/modeling-training/figures/markov_chains/cifar100_cnn_variants/nothing/',\n",
    "    n_components=3,\n",
    "    trim=True\n",
    ")"
   ]
  },
  {
   "cell_type": "code",
   "execution_count": 8,
   "metadata": {},
   "outputs": [],
   "source": [
    "save_markov_chain(\n",
    "    model_pth='/scratch/myh2014/modeling-training/data/model_selection/32/cifar100_v3/False_False/--base.pkl',\n",
    "    data_dir='/scratch/myh2014/modeling-training/results/cifar100_v3/False_False/',\n",
    "    output_pth='/scratch/myh2014/modeling-training/figures/markov_chains/cifar100_v3/False_False/',\n",
    "    n_components=5,\n",
    "    trim=True\n",
    ")\n",
    "\n",
    "save_markov_chain(\n",
    "    model_pth='/scratch/myh2014/modeling-training/data/model_selection/32/cifar100_v3/True_True/--base.pkl',\n",
    "    data_dir='/scratch/myh2014/modeling-training/results/cifar100_v3/True_True/',\n",
    "    output_pth='/scratch/myh2014/modeling-training/figures/markov_chains/cifar100_v3/True_True/',\n",
    "    n_components=5,\n",
    "    trim=True\n",
    ")\n"
   ]
  },
  {
   "cell_type": "code",
   "execution_count": 21,
   "metadata": {},
   "outputs": [],
   "source": [
    "save_markov_chain(\n",
    "    model_pth='/scratch/myh2014/modeling-training/data/model_selection/32/parities_adam_ln-full-base.pkl',\n",
    "    data_dir='/scratch/myh2014/modeling-training/results/parities_adam_ln/',\n",
    "    output_pth='/scratch/myh2014/modeling-training/figures/markov_chains/parities_adam_ln/',\n",
    "    n_components=2,\n",
    "    trim=True\n",
    ")"
   ]
  },
  {
   "cell_type": "code",
   "execution_count": 27,
   "metadata": {},
   "outputs": [],
   "source": [
    "save_markov_chain(\n",
    "    model_pth='/scratch/myh2014/modeling-training/data/model_selection/32/mnist_v2--base.pkl',\n",
    "    data_dir='/scratch/myh2014/modeling-training/results/mnist_v2/',\n",
    "    output_pth='/scratch/myh2014/modeling-training/figures/markov_chains/mnist_v2/',\n",
    "    n_components=6,\n",
    "    trim=True\n",
    ")"
   ]
  },
  {
   "cell_type": "code",
   "execution_count": 6,
   "metadata": {},
   "outputs": [
    {
     "name": "stdout",
     "output_type": "stream",
     "text": [
      "[0.37528728341108014, nan, nan, nan, nan, nan]\n",
      "[0.017023075499225326, nan, nan, nan, nan, nan]\n"
     ]
    },
    {
     "name": "stderr",
     "output_type": "stream",
     "text": [
      "/ext3/miniconda3/lib/python3.9/site-packages/numpy/lib/function_base.py:2829: RuntimeWarning: invalid value encountered in true_divide\n",
      "  c /= stddev[:, None]\n",
      "/ext3/miniconda3/lib/python3.9/site-packages/numpy/lib/function_base.py:2830: RuntimeWarning: invalid value encountered in true_divide\n",
      "  c /= stddev[None, :]\n"
     ]
    }
   ],
   "source": [
    "# correlate states with convergence time to find detour states\n",
    "# nan means the states are obligatory\n",
    "\n",
    "# sparse parities\n",
    "corrs, t_stats, p_val, convergence_epochs, binary_states = get_state_correlations(\n",
    "    file_paths='/scratch/myh2014/modeling-training/results/parities/',\n",
    "    column='eval_accuracy',\n",
    "    threshold=0.9\n",
    ")\n",
    "print(corrs)\n",
    "print(p_val)"
   ]
  },
  {
   "cell_type": "code",
   "execution_count": 6,
   "metadata": {},
   "outputs": [
    {
     "name": "stdout",
     "output_type": "stream",
     "text": [
      "[-0.8203864115241618, nan, -0.21177564173644814, -0.7080030048781754, -0.7239012669101329, 0.4869906827595854]\n",
      "[1.9999999999076166, nan, 1.8104300160431606, 1.9999996775966193, 1.9999998699558523, 0.0014387457313806973]\n"
     ]
    },
    {
     "name": "stderr",
     "output_type": "stream",
     "text": [
      "/ext3/miniconda3/lib/python3.9/site-packages/numpy/lib/function_base.py:2829: RuntimeWarning: invalid value encountered in true_divide\n",
      "  c /= stddev[:, None]\n",
      "/ext3/miniconda3/lib/python3.9/site-packages/numpy/lib/function_base.py:2830: RuntimeWarning: invalid value encountered in true_divide\n",
      "  c /= stddev[None, :]\n"
     ]
    }
   ],
   "source": [
    "# modular addition\n",
    "corrs, t_stats, p_val, convergence_epochs, binary_states = get_state_correlations(\n",
    "    file_paths='/scratch/myh2014/modeling-training/results/modular/',\n",
    "    column='eval_accuracy',\n",
    "    threshold=0.5\n",
    ")\n",
    "print(corrs)\n",
    "print(p_val)"
   ]
  },
  {
   "cell_type": "code",
   "execution_count": 104,
   "metadata": {},
   "outputs": [],
   "source": [
    "convergence_epoch = np.array(convergence_epoch)\n",
    "binary_states = np.array(binary_states).astype(bool)"
   ]
  },
  {
   "cell_type": "code",
   "execution_count": 114,
   "metadata": {},
   "outputs": [
    {
     "name": "stdout",
     "output_type": "stream",
     "text": [
      "276.81081081081084\n",
      "302.6756756756757\n",
      "276.81081081081084\n",
      "456.625\n"
     ]
    }
   ],
   "source": [
    "for i in [0,1,2,4]:\n",
    "    print(np.mean(convergence_epoch[binary_states[i]]))"
   ]
  },
  {
   "cell_type": "code",
   "execution_count": 29,
   "metadata": {},
   "outputs": [
    {
     "name": "stdout",
     "output_type": "stream",
     "text": [
      "[0.0953948567951651, -0.0054531581093004685, 0.033178795860150774, nan, nan, nan, nan]\n",
      "[0.558187098266139, 1.0266406977873728, 0.8389451808018655, nan, nan, nan, nan]\n"
     ]
    },
    {
     "name": "stderr",
     "output_type": "stream",
     "text": [
      "/ext3/miniconda3/lib/python3.9/site-packages/numpy/lib/function_base.py:2829: RuntimeWarning: invalid value encountered in true_divide\n",
      "  c /= stddev[:, None]\n",
      "/ext3/miniconda3/lib/python3.9/site-packages/numpy/lib/function_base.py:2830: RuntimeWarning: invalid value encountered in true_divide\n",
      "  c /= stddev[None, :]\n"
     ]
    }
   ],
   "source": [
    "# MNIST\n",
    "corrs, t_stats, p_val, convergence_epochs, binary_states = get_state_correlations(\n",
    "    file_paths=\"/scratch/myh2014/modeling-training/results/mnist/\",\n",
    "    column='eval_accuracy',\n",
    "    threshold=0.98\n",
    ")\n",
    "print(corrs)\n",
    "print(p_val)"
   ]
  },
  {
   "cell_type": "code",
   "execution_count": 121,
   "metadata": {},
   "outputs": [
    {
     "name": "stdout",
     "output_type": "stream",
     "text": [
      "0 -0.6123724356957947\n",
      "1 nan\n",
      "2 nan\n",
      "3 0.6123724356957947\n",
      "4 nan\n"
     ]
    },
    {
     "name": "stderr",
     "output_type": "stream",
     "text": [
      "/ext3/miniconda3/lib/python3.9/site-packages/numpy/lib/function_base.py:2829: RuntimeWarning: invalid value encountered in true_divide\n",
      "  c /= stddev[:, None]\n",
      "/ext3/miniconda3/lib/python3.9/site-packages/numpy/lib/function_base.py:2830: RuntimeWarning: invalid value encountered in true_divide\n",
      "  c /= stddev[None, :]\n"
     ]
    },
    {
     "data": {
      "text/plain": [
       "([-0.6123724356957947, nan, nan, 0.6123724356957947, nan],\n",
       " [19, 19, 22, 19, 19],\n",
       " [[0, 1, 0, 1, 1],\n",
       "  [1, 1, 1, 1, 1],\n",
       "  [1, 1, 1, 1, 1],\n",
       "  [1, 0, 1, 0, 0],\n",
       "  [1, 1, 1, 1, 1]])"
      ]
     },
     "execution_count": 121,
     "metadata": {},
     "output_type": "execute_result"
    }
   ],
   "source": [
    "# MultiBERTs\n",
    "# remember, need to flip sign\n",
    "get_state_correlations(\n",
    "    file_paths=\"/scratch/myh2014/modeling-training/results/multiberts_diag/\",\n",
    "    column='train_loss',\n",
    "    threshold=1.7\n",
    ")"
   ]
  },
  {
   "cell_type": "code",
   "execution_count": null,
   "metadata": {},
   "outputs": [],
   "source": [
    "# TODO: move over the plotting code. Detour states should finish with a presentation of detours."
   ]
  }
 ],
 "metadata": {
  "kernelspec": {
   "display_name": "Python 3 (base)",
   "language": "python",
   "name": "base"
  },
  "language_info": {
   "codemirror_mode": {
    "name": "ipython",
    "version": 3
   },
   "file_extension": ".py",
   "mimetype": "text/x-python",
   "name": "python",
   "nbconvert_exporter": "python",
   "pygments_lexer": "ipython3",
   "version": "3.9.12"
  }
 },
 "nbformat": 4,
 "nbformat_minor": 4
}
